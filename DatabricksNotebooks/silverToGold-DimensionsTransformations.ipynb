{
 "cells": [
  {
   "cell_type": "markdown",
   "metadata": {
    "application/vnd.databricks.v1+cell": {
     "cellMetadata": {
      "byteLimit": 2048000,
      "rowLimit": 10000
     },
     "inputWidgets": {},
     "nuid": "0cb890f3-5057-46b0-a63a-404c674423c4",
     "showTitle": false,
     "tableResultSettingsMap": {},
     "title": ""
    }
   },
   "source": [
    "## Creating flag parameter"
   ]
  },
  {
   "cell_type": "code",
   "execution_count": 0,
   "metadata": {
    "application/vnd.databricks.v1+cell": {
     "cellMetadata": {
      "byteLimit": 2048000,
      "rowLimit": 10000
     },
     "inputWidgets": {},
     "nuid": "8288670a-89ba-4434-ba94-c129ea02530f",
     "showTitle": false,
     "tableResultSettingsMap": {},
     "title": ""
    }
   },
   "outputs": [],
   "source": [
    "dbutils.widgets.text('incremental_flag','0')"
   ]
  },
  {
   "cell_type": "code",
   "execution_count": 0,
   "metadata": {
    "application/vnd.databricks.v1+cell": {
     "cellMetadata": {
      "byteLimit": 2048000,
      "rowLimit": 10000
     },
     "inputWidgets": {},
     "nuid": "7e36fe3b-5b8a-4c69-bc76-0c96ee757302",
     "showTitle": false,
     "tableResultSettingsMap": {},
     "title": ""
    }
   },
   "outputs": [],
   "source": [
    "dbutils.widgets.get('incremental_flag')"
   ]
  },
  {
   "cell_type": "code",
   "execution_count": 0,
   "metadata": {
    "application/vnd.databricks.v1+cell": {
     "cellMetadata": {
      "byteLimit": 2048000,
      "rowLimit": 10000
     },
     "inputWidgets": {},
     "nuid": "69db11db-d7e3-4399-9c2b-23ef40a1f89c",
     "showTitle": false,
     "tableResultSettingsMap": {},
     "title": ""
    }
   },
   "outputs": [],
   "source": [
    "from pyspark.sql.types import * \n",
    "from pyspark.sql.functions import *\n",
    "from delta.tables import DeltaTable"
   ]
  },
  {
   "cell_type": "markdown",
   "metadata": {
    "application/vnd.databricks.v1+cell": {
     "cellMetadata": {
      "byteLimit": 2048000,
      "rowLimit": 10000
     },
     "inputWidgets": {},
     "nuid": "8528e1cf-7580-4c6f-99a7-24f2bc0f87d1",
     "showTitle": false,
     "tableResultSettingsMap": {},
     "title": ""
    }
   },
   "source": [
    "Creating a **Dimension Model**"
   ]
  },
  {
   "cell_type": "code",
   "execution_count": 0,
   "metadata": {
    "application/vnd.databricks.v1+cell": {
     "cellMetadata": {
      "byteLimit": 2048000,
      "implicitDf": true,
      "rowLimit": 10000
     },
     "inputWidgets": {},
     "nuid": "de30e6e1-342e-40c5-ae97-3940bfd187cd",
     "showTitle": false,
     "tableResultSettingsMap": {},
     "title": ""
    }
   },
   "outputs": [],
   "source": [
    "model_df_src = spark.sql('''\n",
    "    select Distinct(Model_ID), model_category\n",
    "    from parquet.`abfss://silver@dlsendtoendproject001.dfs.core.windows.net/silver_data`\n",
    "''')"
   ]
  },
  {
   "cell_type": "code",
   "execution_count": 0,
   "metadata": {
    "application/vnd.databricks.v1+cell": {
     "cellMetadata": {
      "byteLimit": 2048000,
      "rowLimit": 10000
     },
     "inputWidgets": {},
     "nuid": "8478a4b9-4d2d-40cf-ad55-326d1bf52e65",
     "showTitle": false,
     "tableResultSettingsMap": {},
     "title": ""
    }
   },
   "outputs": [],
   "source": [
    "display(model_df_src)"
   ]
  },
  {
   "cell_type": "code",
   "execution_count": 0,
   "metadata": {
    "application/vnd.databricks.v1+cell": {
     "cellMetadata": {
      "byteLimit": 2048000,
      "rowLimit": 10000
     },
     "inputWidgets": {},
     "nuid": "ea1c0d08-a44d-4552-b0f9-f8edfaec0eca",
     "showTitle": false,
     "tableResultSettingsMap": {},
     "title": ""
    }
   },
   "outputs": [],
   "source": [
    "model_df_sink = spark.sql('''\n",
    "    select 1 as dim_model_key, Model_ID, model_category\n",
    "    from parquet.`abfss://silver@dlsendtoendproject001.dfs.core.windows.net/silver_data`\n",
    "    where 1 = 0\n",
    "'''\n",
    ")\n",
    "model_df_sink.display()"
   ]
  },
  {
   "cell_type": "markdown",
   "metadata": {
    "application/vnd.databricks.v1+cell": {
     "cellMetadata": {
      "byteLimit": 2048000,
      "rowLimit": 10000
     },
     "inputWidgets": {},
     "nuid": "f1c47b47-2dab-4f69-819e-cf1e4eaafe33",
     "showTitle": false,
     "tableResultSettingsMap": {},
     "title": ""
    }
   },
   "source": [
    "**DIM MODEL SINK INITIAL, INCREMENTAL**"
   ]
  },
  {
   "cell_type": "code",
   "execution_count": 0,
   "metadata": {
    "application/vnd.databricks.v1+cell": {
     "cellMetadata": {
      "byteLimit": 2048000,
      "rowLimit": 10000
     },
     "inputWidgets": {},
     "nuid": "ab26eef2-dff2-4245-9af8-fb3c9b5b7f7f",
     "showTitle": false,
     "tableResultSettingsMap": {},
     "title": ""
    }
   },
   "outputs": [],
   "source": [
    "if spark.catalog.tableExists('sales.gold.dim_model'):\n",
    "    model_df_sink = spark.sql('''\n",
    "        select dim_model_key, Model_ID, model_category\n",
    "        from sales.gold.dim_model\n",
    "    ''')\n",
    "else:\n",
    "    model_df_sink = spark.sql('''\n",
    "        select 1 as dim_model_key, Model_ID, model_category\n",
    "        from parquet.`abfss://silver@dlsendtoendproject001.dfs.core.windows.net/silver_data`\n",
    "        where 1 = 0\n",
    "    ''')"
   ]
  },
  {
   "cell_type": "code",
   "execution_count": 0,
   "metadata": {
    "application/vnd.databricks.v1+cell": {
     "cellMetadata": {
      "byteLimit": 2048000,
      "rowLimit": 10000
     },
     "inputWidgets": {},
     "nuid": "46abce08-c73d-4d5f-859d-9dd3dec4fda9",
     "showTitle": false,
     "tableResultSettingsMap": {
      "0": {
       "dataGridStateBlob": "{\"version\":1,\"tableState\":{\"columnPinning\":{\"left\":[\"#row_number#\"],\"right\":[]},\"columnSizing\":{},\"columnVisibility\":{}},\"settings\":{\"columns\":{}},\"syncTimestamp\":1752115018843}",
       "filterBlob": null,
       "queryPlanFiltersBlob": null,
       "tableResultIndex": 0
      }
     },
     "title": ""
    }
   },
   "outputs": [],
   "source": [
    "dim_model_df = model_df_src.join(model_df_sink, model_df_src['Model_ID'] == model_df_sink['Model_ID'],how = 'left')\\\n",
    "    .select(model_df_src['Model_ID'],model_df_src['model_category'],model_df_sink['dim_model_key'])\n",
    "display(dim_model_df)"
   ]
  },
  {
   "cell_type": "markdown",
   "metadata": {
    "application/vnd.databricks.v1+cell": {
     "cellMetadata": {
      "byteLimit": 2048000,
      "rowLimit": 10000
     },
     "inputWidgets": {},
     "nuid": "ba5d5430-8e11-4ded-9e14-dea90b122060",
     "showTitle": false,
     "tableResultSettingsMap": {},
     "title": ""
    }
   },
   "source": [
    "**Create Surrogate Key**"
   ]
  },
  {
   "cell_type": "code",
   "execution_count": 0,
   "metadata": {
    "application/vnd.databricks.v1+cell": {
     "cellMetadata": {
      "byteLimit": 2048000,
      "rowLimit": 10000
     },
     "inputWidgets": {},
     "nuid": "e66a234e-7e31-4f83-95af-a07ff0cfa0ff",
     "showTitle": false,
     "tableResultSettingsMap": {},
     "title": ""
    }
   },
   "outputs": [],
   "source": [
    "if dbutils.widgets.get('incremental_flag') == '0':\n",
    "    max_value_model = 1\n",
    "else:\n",
    "    max_value_model = spark.sql(\"select max(dim_model_key) from sales.gold.dim_model\").collect()[0][0]"
   ]
  },
  {
   "cell_type": "code",
   "execution_count": 0,
   "metadata": {
    "application/vnd.databricks.v1+cell": {
     "cellMetadata": {
      "byteLimit": 2048000,
      "rowLimit": 10000
     },
     "inputWidgets": {},
     "nuid": "8f08f0cd-94c0-45a0-acb0-0e3154365521",
     "showTitle": false,
     "tableResultSettingsMap": {},
     "title": ""
    }
   },
   "outputs": [],
   "source": [
    "dim_model_df = dim_model_df.withColumn('dim_model_key', max_value_model+monotonically_increasing_id())\n",
    "display(dim_model_df)"
   ]
  },
  {
   "cell_type": "markdown",
   "metadata": {
    "application/vnd.databricks.v1+cell": {
     "cellMetadata": {
      "byteLimit": 2048000,
      "rowLimit": 10000
     },
     "inputWidgets": {},
     "nuid": "ad8419f5-d5f4-48eb-b8b6-0c4b644cae5a",
     "showTitle": false,
     "tableResultSettingsMap": {},
     "title": ""
    }
   },
   "source": [
    "**Applying SCD Type 1 - Upsert**"
   ]
  },
  {
   "cell_type": "code",
   "execution_count": 0,
   "metadata": {
    "application/vnd.databricks.v1+cell": {
     "cellMetadata": {
      "byteLimit": 2048000,
      "rowLimit": 10000
     },
     "inputWidgets": {},
     "nuid": "7491c7dc-8c17-45ce-bc72-64b6399418fa",
     "showTitle": false,
     "tableResultSettingsMap": {},
     "title": ""
    }
   },
   "outputs": [],
   "source": [
    "if spark.catalog.tableExists('sales.gold.dim_model'):\n",
    "    deltatable = DeltaTable.forPath(spark, 'abfss://gold@dlsendtoendproject001.dfs.core.windows.net/dim_model')\n",
    "    deltatable.alias('tgt').merge(dim_model_df.alias('src'), 'tgt.dim_model_key = src.dim_model_key')\\\n",
    "        .whenMatchedUpdateAll()\\\n",
    "        .whenNotMatchedInsertAll()\\\n",
    "            .execute()\n",
    "else:\n",
    "    #Initial run\n",
    "    dim_model_df.write.mode('overwrite').format('delta')\\\n",
    "        .option('path','abfss://gold@dlsendtoendproject001.dfs.core.windows.net/dim_model')\\\n",
    "            .saveAsTable('sales.gold.dim_model')"
   ]
  },
  {
   "cell_type": "markdown",
   "metadata": {
    "application/vnd.databricks.v1+cell": {
     "cellMetadata": {
      "byteLimit": 2048000,
      "rowLimit": 10000
     },
     "inputWidgets": {},
     "nuid": "47e9b086-7d1a-4f75-89d7-8007afc689ce",
     "showTitle": false,
     "tableResultSettingsMap": {},
     "title": ""
    }
   },
   "source": [
    "## Creating second dimension table"
   ]
  },
  {
   "cell_type": "markdown",
   "metadata": {
    "application/vnd.databricks.v1+cell": {
     "cellMetadata": {
      "byteLimit": 2048000,
      "rowLimit": 10000
     },
     "inputWidgets": {},
     "nuid": "e3f5e105-cf73-4d76-8216-a294cac054fa",
     "showTitle": false,
     "tableResultSettingsMap": {},
     "title": ""
    }
   },
   "source": [
    "**--Gold Branch Dimension Table--**"
   ]
  },
  {
   "cell_type": "code",
   "execution_count": 0,
   "metadata": {
    "application/vnd.databricks.v1+cell": {
     "cellMetadata": {
      "byteLimit": 2048000,
      "rowLimit": 10000
     },
     "collapsed": true,
     "inputWidgets": {},
     "nuid": "d02726e5-bf40-4d9c-b7d6-2d6cf66d4b11",
     "showTitle": false,
     "tableResultSettingsMap": {
      "0": {
       "dataGridStateBlob": "{\"version\":1,\"tableState\":{\"columnPinning\":{\"left\":[\"#row_number#\"],\"right\":[]},\"columnSizing\":{},\"columnVisibility\":{}},\"settings\":{\"columns\":{}},\"syncTimestamp\":1752321460850}",
       "filterBlob": null,
       "queryPlanFiltersBlob": null,
       "tableResultIndex": 0
      }
     },
     "title": ""
    }
   },
   "outputs": [],
   "source": [
    "dim_branch_src = spark.sql(\n",
    "    ''' select Distinct(Branch_ID), BranchName from parquet.`abfss://silver@dlsendtoendproject001.dfs.core.windows.net/silver_data`'''\n",
    ")\n",
    "display(dim_branch_src)"
   ]
  },
  {
   "cell_type": "code",
   "execution_count": 0,
   "metadata": {
    "application/vnd.databricks.v1+cell": {
     "cellMetadata": {
      "byteLimit": 2048000,
      "rowLimit": 10000
     },
     "collapsed": true,
     "inputWidgets": {},
     "nuid": "4d1cea56-b119-4ab4-ad80-138cd06f695f",
     "showTitle": false,
     "tableResultSettingsMap": {},
     "title": ""
    }
   },
   "outputs": [],
   "source": [
    "dim_branch_sink = spark.sql(''' select 1 as dim_branch_key, Branch_ID, BranchName from parquet.`abfss://silver@dlsendtoendproject001.dfs.core.windows.net/silver_data` where 1 = 0''')\n",
    "display(dim_branch_sink)"
   ]
  },
  {
   "cell_type": "markdown",
   "metadata": {
    "application/vnd.databricks.v1+cell": {
     "cellMetadata": {
      "byteLimit": 2048000,
      "rowLimit": 10000
     },
     "inputWidgets": {},
     "nuid": "af53c0f8-e4bf-4c79-8e46-2f075198120a",
     "showTitle": false,
     "tableResultSettingsMap": {},
     "title": ""
    }
   },
   "source": [
    "**Initial and incremental load**"
   ]
  },
  {
   "cell_type": "code",
   "execution_count": 0,
   "metadata": {
    "application/vnd.databricks.v1+cell": {
     "cellMetadata": {
      "byteLimit": 2048000,
      "rowLimit": 10000
     },
     "inputWidgets": {},
     "nuid": "26edaa27-2c2d-4c93-a310-5055d8f352b0",
     "showTitle": false,
     "tableResultSettingsMap": {},
     "title": ""
    }
   },
   "outputs": [],
   "source": [
    "if spark.catalog.tableExists('sales.gold.dim_branch'):\n",
    "    dim_branch_sink = spark.sql('''\n",
    "        select dim_branch_key, Branch_ID, BranchName\n",
    "        from sales.gold.dim_branch\n",
    "    ''')\n",
    "else:\n",
    "    dim_branch_sink = spark.sql('''\n",
    "        select 1 as dim_branch_key, Branch_ID, BranchName\n",
    "        from parquet.`abfss://silver@dlsendtoendproject001.dfs.core.windows.net/silver_data`\n",
    "        where 1 = 0\n",
    "    ''')"
   ]
  },
  {
   "cell_type": "code",
   "execution_count": 0,
   "metadata": {
    "application/vnd.databricks.v1+cell": {
     "cellMetadata": {
      "byteLimit": 2048000,
      "rowLimit": 10000
     },
     "inputWidgets": {},
     "nuid": "6b5987c0-950c-4fde-9afb-bc5f31739f51",
     "showTitle": false,
     "tableResultSettingsMap": {},
     "title": ""
    }
   },
   "outputs": [],
   "source": [
    "dim_branch_df = dim_branch_src.join(dim_branch_sink,dim_branch_src['Branch_ID'] == dim_branch_sink['Branch_ID'],how = 'left')\\\n",
    "    .select(dim_branch_src['Branch_ID'],dim_branch_src['BranchName'],dim_branch_sink['dim_branch_key'])\n",
    "display(dim_branch_df)"
   ]
  },
  {
   "cell_type": "code",
   "execution_count": 0,
   "metadata": {
    "application/vnd.databricks.v1+cell": {
     "cellMetadata": {
      "byteLimit": 2048000,
      "rowLimit": 10000
     },
     "inputWidgets": {},
     "nuid": "26de128a-ee79-42d6-802f-2aa8d6ee7d8d",
     "showTitle": false,
     "tableResultSettingsMap": {},
     "title": ""
    }
   },
   "outputs": [],
   "source": [
    "if dbutils.widgets.get('incremental_flag') == '0':\n",
    "    max_value_branch = 1\n",
    "else:\n",
    "    max_value_branch = spark.sql('''select max(dim_branch_key) from sales.gold.dim_branch''').collect()[0][0]"
   ]
  },
  {
   "cell_type": "code",
   "execution_count": 0,
   "metadata": {
    "application/vnd.databricks.v1+cell": {
     "cellMetadata": {
      "byteLimit": 2048000,
      "rowLimit": 10000
     },
     "inputWidgets": {},
     "nuid": "41c91e1a-9994-4161-8639-5e50eac5efc8",
     "showTitle": false,
     "tableResultSettingsMap": {},
     "title": ""
    }
   },
   "outputs": [],
   "source": [
    "dim_branch_df = dim_branch_df.withColumn('dim_branch_key', max_value_branch+monotonically_increasing_id())\n",
    "display(dim_branch_df)"
   ]
  },
  {
   "cell_type": "code",
   "execution_count": 0,
   "metadata": {
    "application/vnd.databricks.v1+cell": {
     "cellMetadata": {
      "byteLimit": 2048000,
      "rowLimit": 10000
     },
     "collapsed": true,
     "inputWidgets": {},
     "nuid": "ae953028-1d1f-470c-8cc5-506dbfd405b6",
     "showTitle": false,
     "tableResultSettingsMap": {},
     "title": ""
    }
   },
   "outputs": [],
   "source": [
    "if spark.catalog.tableExists('sales.gold.dim_branch'):\n",
    "    deltatable = DeltaTable.forPath(spark,'abfss://gold@dlsendtoendproject001.dfs.core.windows.net/dim_branch')\n",
    "    deltatable.alias('tgt').merge(dim_branch_df.alias('src'), 'tgt.dim_branch_key = src.dim_branch_key')\\\n",
    "        .whenMatchedUpdateAll()\\\n",
    "            .whenNotMatchedInsertAll()\\\n",
    "                .execute()\n",
    "else:\n",
    "    dim_branch_df.write.format('delta')\\\n",
    "        .mode('overwrite')\\\n",
    "            .option('path','abfss://gold@dlsendtoendproject001.dfs.core.windows.net/dim_branch')\\\n",
    "                .saveAsTable('sales.gold.dim_branch')"
   ]
  },
  {
   "cell_type": "markdown",
   "metadata": {
    "application/vnd.databricks.v1+cell": {
     "cellMetadata": {
      "byteLimit": 2048000,
      "rowLimit": 10000
     },
     "inputWidgets": {},
     "nuid": "7c48f38f-6f02-46c8-84d2-91def0ea9d4e",
     "showTitle": false,
     "tableResultSettingsMap": {},
     "title": ""
    }
   },
   "source": [
    "**GOLD DIM DEALER CREATION**"
   ]
  },
  {
   "cell_type": "code",
   "execution_count": 0,
   "metadata": {
    "application/vnd.databricks.v1+cell": {
     "cellMetadata": {
      "byteLimit": 2048000,
      "rowLimit": 10000
     },
     "inputWidgets": {},
     "nuid": "ef494ff9-96b2-4a9d-8758-3526a6bbb034",
     "showTitle": false,
     "tableResultSettingsMap": {},
     "title": ""
    }
   },
   "outputs": [],
   "source": [
    "dim_dealer_src = spark.sql(''' Select Distinct(Dealer_ID), DealerName from parquet.`abfss://silver@dlsendtoendproject001.dfs.core.windows.net/silver_data`''')\n",
    "display(dim_dealer_src)"
   ]
  },
  {
   "cell_type": "code",
   "execution_count": 0,
   "metadata": {
    "application/vnd.databricks.v1+cell": {
     "cellMetadata": {
      "byteLimit": 2048000,
      "rowLimit": 10000
     },
     "inputWidgets": {},
     "nuid": "ad4069e4-7cc7-411b-ac8d-533ba7169014",
     "showTitle": false,
     "tableResultSettingsMap": {},
     "title": ""
    }
   },
   "outputs": [],
   "source": [
    "dim_dealer_sink = spark.sql(''' select 1 as dim_dealer_key, Dealer_ID, DealerName from parquet.`abfss://silver@dlsendtoendproject001.dfs.core.windows.net/silver_data` where 1=0''')\n",
    "display(dim_dealer_sink)"
   ]
  },
  {
   "cell_type": "code",
   "execution_count": 0,
   "metadata": {
    "application/vnd.databricks.v1+cell": {
     "cellMetadata": {
      "byteLimit": 2048000,
      "rowLimit": 10000
     },
     "inputWidgets": {},
     "nuid": "7bc5c8bc-1ee8-4825-83a0-a83b232374ce",
     "showTitle": false,
     "tableResultSettingsMap": {},
     "title": ""
    }
   },
   "outputs": [],
   "source": [
    "if spark.catalog.tableExists('sales.gold.dim_dealer'):\n",
    "    dim_dealer_sink = spark.sql('''\n",
    "        select dim_dealer_key, Dealer_ID, DealerName\n",
    "        from sales.gold.dim_dealer\n",
    "    ''')\n",
    "else:\n",
    "    dim_dealer_sink = spark.sql('''\n",
    "        select 1 as dim_dealer_key, Dealer_ID, DealerName\n",
    "        from parquet.`abfss://silver@dlsendtoendproject001.dfs.core.windows.net/silver_data`\n",
    "        where 1 = 0\n",
    "    ''')"
   ]
  },
  {
   "cell_type": "code",
   "execution_count": 0,
   "metadata": {
    "application/vnd.databricks.v1+cell": {
     "cellMetadata": {
      "byteLimit": 2048000,
      "rowLimit": 10000
     },
     "inputWidgets": {},
     "nuid": "0e2a4054-15f3-4679-806a-7a7bbc0deb6e",
     "showTitle": false,
     "tableResultSettingsMap": {},
     "title": ""
    }
   },
   "outputs": [],
   "source": [
    "dim_dealer_df = dim_dealer_src.join(dim_dealer_sink,dim_dealer_src['Dealer_ID'] == dim_dealer_sink['Dealer_ID'],how = 'left')\\\n",
    "    .select(dim_dealer_src['Dealer_ID'],dim_dealer_src['DealerName'],dim_dealer_sink['dim_dealer_key'])\n",
    "display(dim_dealer_df)"
   ]
  },
  {
   "cell_type": "code",
   "execution_count": 0,
   "metadata": {
    "application/vnd.databricks.v1+cell": {
     "cellMetadata": {
      "byteLimit": 2048000,
      "rowLimit": 10000
     },
     "inputWidgets": {},
     "nuid": "389de4d8-c724-4e57-beb7-dc7faf6056ac",
     "showTitle": false,
     "tableResultSettingsMap": {},
     "title": ""
    }
   },
   "outputs": [],
   "source": [
    "if dbutils.widgets.get('incremental_flag') == '0':\n",
    "    max_value_dealer = 1\n",
    "else:\n",
    "    max_value_dealer = spark.sql('''select max(dim_dealer_key) from sales.gold.dim_dealer''').collect()[0][0]"
   ]
  },
  {
   "cell_type": "code",
   "execution_count": 0,
   "metadata": {
    "application/vnd.databricks.v1+cell": {
     "cellMetadata": {
      "byteLimit": 2048000,
      "rowLimit": 10000
     },
     "inputWidgets": {},
     "nuid": "5938c07d-eb48-4530-bdd2-a665d853205f",
     "showTitle": false,
     "tableResultSettingsMap": {},
     "title": ""
    }
   },
   "outputs": [],
   "source": [
    "dim_dealer_df = dim_dealer_df.withColumn('dim_dealer_key', max_value_dealer+monotonically_increasing_id())\n",
    "display(dim_dealer_df)"
   ]
  },
  {
   "cell_type": "code",
   "execution_count": 0,
   "metadata": {
    "application/vnd.databricks.v1+cell": {
     "cellMetadata": {
      "byteLimit": 2048000,
      "rowLimit": 10000
     },
     "inputWidgets": {},
     "nuid": "c84d8d21-aae0-42e7-810f-59a1c33322df",
     "showTitle": false,
     "tableResultSettingsMap": {},
     "title": ""
    }
   },
   "outputs": [],
   "source": [
    "if spark.catalog.tableExists('sales.gold.dim_dealer'):\n",
    "    deltatable = DeltaTable.forPath(spark,'abfss://gold@dlsendtoendproject001.dfs.core.windows.net/dim_dealer')\n",
    "    deltatable.alias('tgt').merge(dim_dealer_df.alias('src'), 'tgt.dim_dealer_key = src.dim_dealer_key')\\\n",
    "    .whenMatchedUpdateAll()\\\n",
    "        .whenNotMatchedInsertAll()\\\n",
    "            .execute()\n",
    "else:\n",
    "    dim_dealer_df.write.format('delta')\\\n",
    "        .mode('overwrite')\\\n",
    "            .option('path','abfss://gold@dlsendtoendproject001.dfs.core.windows.net/dim_dealer')\\\n",
    "                .saveAsTable('sales.gold.dim_dealer')"
   ]
  },
  {
   "cell_type": "markdown",
   "metadata": {
    "application/vnd.databricks.v1+cell": {
     "cellMetadata": {
      "byteLimit": 2048000,
      "rowLimit": 10000
     },
     "inputWidgets": {},
     "nuid": "5e3b5097-2d24-47a4-8f15-c941a288a236",
     "showTitle": false,
     "tableResultSettingsMap": {},
     "title": ""
    }
   },
   "source": [
    "**Date dimension creation**"
   ]
  },
  {
   "cell_type": "code",
   "execution_count": 0,
   "metadata": {
    "application/vnd.databricks.v1+cell": {
     "cellMetadata": {
      "byteLimit": 2048000,
      "rowLimit": 10000
     },
     "inputWidgets": {},
     "nuid": "34a8426b-4545-415f-ab74-8cf48213264e",
     "showTitle": false,
     "tableResultSettingsMap": {},
     "title": ""
    }
   },
   "outputs": [],
   "source": [
    "dim_date_src = spark.sql('''select Distinct(Date_ID) as Date_ID from parquet.`abfss://silver@dlsendtoendproject001.dfs.core.windows.net/silver_data`''')\n",
    "display(dim_date_src)"
   ]
  },
  {
   "cell_type": "code",
   "execution_count": 0,
   "metadata": {
    "application/vnd.databricks.v1+cell": {
     "cellMetadata": {
      "byteLimit": 2048000,
      "rowLimit": 10000
     },
     "inputWidgets": {},
     "nuid": "d35f2000-39ad-4d91-a244-dc26700fbb70",
     "showTitle": false,
     "tableResultSettingsMap": {},
     "title": ""
    }
   },
   "outputs": [],
   "source": [
    "if spark.catalog.tableExists('sales.gold.dim_date'):\n",
    "    dim_date_sink = spark.sql(''' select dim_date_key, Date_ID from sales.gold.dim_date''')\n",
    "else:\n",
    "    dim_date_sink = spark.sql(''' select 1 as dim_date_key, Date_ID from parquet.`abfss://silver@dlsendtoendproject001.dfs.core.windows.net/silver_data` where 1=0''')\n"
   ]
  },
  {
   "cell_type": "code",
   "execution_count": 0,
   "metadata": {
    "application/vnd.databricks.v1+cell": {
     "cellMetadata": {
      "byteLimit": 2048000,
      "rowLimit": 10000
     },
     "inputWidgets": {},
     "nuid": "d47f9a38-b99b-48a1-808b-8510f904e9f3",
     "showTitle": false,
     "tableResultSettingsMap": {},
     "title": ""
    }
   },
   "outputs": [],
   "source": [
    "dim_date_df = dim_date_src.join(dim_date_sink,dim_date_src['Date_ID'] == dim_date_sink['Date_ID'],how='left')\\\n",
    "    .select(dim_date_src['Date_ID'],dim_date_sink['dim_date_key'])\n",
    "display(dim_date_df)"
   ]
  },
  {
   "cell_type": "code",
   "execution_count": 0,
   "metadata": {
    "application/vnd.databricks.v1+cell": {
     "cellMetadata": {
      "byteLimit": 2048000,
      "rowLimit": 10000
     },
     "inputWidgets": {},
     "nuid": "c0d01ec2-9f23-457f-bcf9-30e118bbd1d8",
     "showTitle": false,
     "tableResultSettingsMap": {},
     "title": ""
    }
   },
   "outputs": [],
   "source": [
    "if dbutils.widgets.get('incremental_flag') == '0':\n",
    "    max_value_date = 1\n",
    "else:\n",
    "    max_value_date = spark.sql('''select max(dim_date_key) from sales.gold.dim_date''').collect()[0][0]"
   ]
  },
  {
   "cell_type": "code",
   "execution_count": 0,
   "metadata": {
    "application/vnd.databricks.v1+cell": {
     "cellMetadata": {
      "byteLimit": 2048000,
      "rowLimit": 10000
     },
     "inputWidgets": {},
     "nuid": "d8edd79d-b6e8-4237-bf89-7ab8d31f16c9",
     "showTitle": false,
     "tableResultSettingsMap": {},
     "title": ""
    }
   },
   "outputs": [],
   "source": [
    "dim_date_df = dim_date_df.withColumn('dim_date_key', max_value_date+monotonically_increasing_id())\n",
    "display(dim_date_df)"
   ]
  },
  {
   "cell_type": "code",
   "execution_count": 0,
   "metadata": {
    "application/vnd.databricks.v1+cell": {
     "cellMetadata": {
      "byteLimit": 2048000,
      "rowLimit": 10000
     },
     "inputWidgets": {},
     "nuid": "b000af07-b7c3-4dd9-a8e1-27c4ce920c40",
     "showTitle": false,
     "tableResultSettingsMap": {},
     "title": ""
    }
   },
   "outputs": [],
   "source": [
    "if spark.catalog.tableExists('sales.gold.dim_date'):\n",
    "    deltatable = DeltaTable.forPath(spark,'abfss://gold@dlsendtoendproject001.dfs.core.windows.net/dim_date')\n",
    "    deltatable.alias('tgt').merge(dim_date_df.alias('src'),'tgt.dim_date_key = src.dim_date_key')\\\n",
    "        .whenMatchedUpdateAll()\\\n",
    "            .whenNotMatchedInsertAll()\\\n",
    "                .execute()\n",
    "else:\n",
    "    dim_date_df.write.format('delta')\\\n",
    "        .mode('overwrite')\\\n",
    "            .option('path','abfss://gold@dlsendtoendproject001.dfs.core.windows.net/dim_date')\\\n",
    "                .saveAsTable('sales.gold.dim_date')"
   ]
  }
 ],
 "metadata": {
  "application/vnd.databricks.v1+notebook": {
   "computePreferences": null,
   "dashboards": [],
   "environmentMetadata": {
    "base_environment": "",
    "environment_version": "2"
   },
   "inputWidgetPreferences": null,
   "language": "python",
   "notebookMetadata": {
    "mostRecentlyExecutedCommandWithImplicitDF": {
     "commandId": 5799429950905777,
     "dataframes": [
      "_sqldf"
     ]
    },
    "pythonIndentUnit": 4
   },
   "notebookName": "silverToGold-DimensionsTransformations",
   "widgets": {
    "incremental_flag": {
     "currentValue": "0",
     "nuid": "51b2d89c-5f54-4444-8e7f-33ab43dcebd2",
     "typedWidgetInfo": {
      "autoCreated": false,
      "defaultValue": "0",
      "label": null,
      "name": "incremental_flag",
      "options": {
       "widgetDisplayType": "Text",
       "validationRegex": null
      },
      "parameterDataType": "String"
     },
     "widgetInfo": {
      "widgetType": "text",
      "defaultValue": "0",
      "label": null,
      "name": "incremental_flag",
      "options": {
       "widgetType": "text",
       "autoCreated": null,
       "validationRegex": null
      }
     }
    }
   }
  },
  "language_info": {
   "name": "python"
  }
 },
 "nbformat": 4,
 "nbformat_minor": 0
}
