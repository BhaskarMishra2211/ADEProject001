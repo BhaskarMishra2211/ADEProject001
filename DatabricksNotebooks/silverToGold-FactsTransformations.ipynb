{
 "cells": [
  {
   "cell_type": "code",
   "execution_count": 0,
   "metadata": {
    "application/vnd.databricks.v1+cell": {
     "cellMetadata": {
      "byteLimit": 2048000,
      "rowLimit": 10000
     },
     "inputWidgets": {},
     "nuid": "d2573b28-0a61-4006-935d-66a0920c7835",
     "showTitle": false,
     "tableResultSettingsMap": {},
     "title": ""
    }
   },
   "outputs": [],
   "source": [
    "from pyspark.sql.functions import * \n",
    "from pyspark.sql.types import *\n",
    "from delta.tables import DeltaTable"
   ]
  },
  {
   "cell_type": "code",
   "execution_count": 0,
   "metadata": {
    "application/vnd.databricks.v1+cell": {
     "cellMetadata": {
      "byteLimit": 2048000,
      "rowLimit": 10000
     },
     "inputWidgets": {},
     "nuid": "7ad7c515-fcac-49d0-92e0-f8fbc1a214aa",
     "showTitle": false,
     "tableResultSettingsMap": {},
     "title": ""
    }
   },
   "outputs": [],
   "source": [
    "fact_src_df = spark.read.format('parquet')\\\n",
    "    .option('inferschema',True)\\\n",
    "        .option('header',True)\\\n",
    "            .load('abfss://silver@dlsendtoendproject001.dfs.core.windows.net/silver_data')\n",
    "\n",
    "display(fact_src_df)"
   ]
  },
  {
   "cell_type": "markdown",
   "metadata": {
    "application/vnd.databricks.v1+cell": {
     "cellMetadata": {
      "byteLimit": 2048000,
      "rowLimit": 10000
     },
     "inputWidgets": {},
     "nuid": "02d89ae1-53b9-49a3-babd-35e845b5f603",
     "showTitle": false,
     "tableResultSettingsMap": {},
     "title": ""
    }
   },
   "source": [
    "**Creation of all the dimensions table dataframe required for join operations**"
   ]
  },
  {
   "cell_type": "markdown",
   "metadata": {
    "application/vnd.databricks.v1+cell": {
     "cellMetadata": {
      "byteLimit": 2048000,
      "rowLimit": 10000
     },
     "inputWidgets": {},
     "nuid": "67f34f39-c69c-447f-ae44-0efba8bf716c",
     "showTitle": false,
     "tableResultSettingsMap": {},
     "title": ""
    }
   },
   "source": [
    "**Model Dimension Dataframe**"
   ]
  },
  {
   "cell_type": "code",
   "execution_count": 0,
   "metadata": {
    "application/vnd.databricks.v1+cell": {
     "cellMetadata": {
      "byteLimit": 2048000,
      "rowLimit": 10000
     },
     "collapsed": true,
     "inputWidgets": {},
     "nuid": "e5981ddd-ca2e-4a96-9537-b1f4d9414e49",
     "showTitle": false,
     "tableResultSettingsMap": {},
     "title": ""
    }
   },
   "outputs": [],
   "source": [
    "dim_model_df = spark.table('sales.gold.dim_model')\n",
    "display(dim_model_df)"
   ]
  },
  {
   "cell_type": "markdown",
   "metadata": {
    "application/vnd.databricks.v1+cell": {
     "cellMetadata": {
      "byteLimit": 2048000,
      "rowLimit": 10000
     },
     "inputWidgets": {},
     "nuid": "dbf69175-9697-4cb4-9cf8-8d36a59b42e3",
     "showTitle": false,
     "tableResultSettingsMap": {},
     "title": ""
    }
   },
   "source": [
    "**Branch Dimension Dataframe**"
   ]
  },
  {
   "cell_type": "code",
   "execution_count": 0,
   "metadata": {
    "application/vnd.databricks.v1+cell": {
     "cellMetadata": {
      "byteLimit": 2048000,
      "rowLimit": 10000
     },
     "collapsed": true,
     "inputWidgets": {},
     "nuid": "2b79dd62-5c60-473f-8549-813073da1d70",
     "showTitle": false,
     "tableResultSettingsMap": {},
     "title": ""
    }
   },
   "outputs": [],
   "source": [
    "dim_branch_df = spark.table('sales.gold.dim_branch')\n",
    "display(dim_branch_df)"
   ]
  },
  {
   "cell_type": "markdown",
   "metadata": {
    "application/vnd.databricks.v1+cell": {
     "cellMetadata": {
      "byteLimit": 2048000,
      "rowLimit": 10000
     },
     "inputWidgets": {},
     "nuid": "e4d17134-36b1-46b0-9ab7-77379d9e70d2",
     "showTitle": false,
     "tableResultSettingsMap": {},
     "title": ""
    }
   },
   "source": [
    "**Dealer Dimension Dataframe**"
   ]
  },
  {
   "cell_type": "code",
   "execution_count": 0,
   "metadata": {
    "application/vnd.databricks.v1+cell": {
     "cellMetadata": {
      "byteLimit": 2048000,
      "rowLimit": 10000
     },
     "collapsed": true,
     "inputWidgets": {},
     "nuid": "de279ffe-4fc4-4999-ba5a-5b41ce1896f5",
     "showTitle": false,
     "tableResultSettingsMap": {},
     "title": ""
    }
   },
   "outputs": [],
   "source": [
    "dim_dealer_df = spark.table('sales.gold.dim_dealer')\n",
    "display(dim_dealer_df)"
   ]
  },
  {
   "cell_type": "markdown",
   "metadata": {
    "application/vnd.databricks.v1+cell": {
     "cellMetadata": {
      "byteLimit": 2048000,
      "rowLimit": 10000
     },
     "inputWidgets": {},
     "nuid": "e6f1878b-8550-4bd9-a622-015e586c2b50",
     "showTitle": false,
     "tableResultSettingsMap": {},
     "title": ""
    }
   },
   "source": [
    "**Date Dimension Dataframe**"
   ]
  },
  {
   "cell_type": "code",
   "execution_count": 0,
   "metadata": {
    "application/vnd.databricks.v1+cell": {
     "cellMetadata": {
      "byteLimit": 2048000,
      "rowLimit": 10000
     },
     "collapsed": true,
     "inputWidgets": {},
     "nuid": "e68eede2-b7aa-47f0-9276-839eddcd92ef",
     "showTitle": false,
     "tableResultSettingsMap": {},
     "title": ""
    }
   },
   "outputs": [],
   "source": [
    "dim_date_df = spark.table('sales.gold.dim_date')\n",
    "display(dim_date_df)"
   ]
  },
  {
   "cell_type": "markdown",
   "metadata": {
    "application/vnd.databricks.v1+cell": {
     "cellMetadata": {
      "byteLimit": 2048000,
      "rowLimit": 10000
     },
     "inputWidgets": {},
     "nuid": "06148fe2-d369-4872-a867-f49c6c03dd43",
     "showTitle": false,
     "tableResultSettingsMap": {},
     "title": ""
    }
   },
   "source": [
    "**Applying joins with fact tables of the above dimensions**"
   ]
  },
  {
   "cell_type": "code",
   "execution_count": 0,
   "metadata": {
    "application/vnd.databricks.v1+cell": {
     "cellMetadata": {
      "byteLimit": 2048000,
      "rowLimit": 10000
     },
     "inputWidgets": {},
     "nuid": "08771847-0e8b-4447-883f-a046dc45d95f",
     "showTitle": false,
     "tableResultSettingsMap": {},
     "title": ""
    }
   },
   "outputs": [],
   "source": [
    "sales_fact_df = fact_src_df.join(dim_model_df, fact_src_df.Model_ID == dim_model_df.Model_ID,'left')\\\n",
    "    .join(dim_branch_df,fact_src_df['Branch_ID'] == dim_branch_df['Branch_ID'],'left')\\\n",
    "    .join(dim_dealer_df,fact_src_df['Dealer_ID'] == dim_dealer_df['Dealer_ID'],'left')\\\n",
    "    .join(dim_date_df,fact_src_df['Date_ID'] == dim_date_df['Date_ID'],'left')\\\n",
    "        .select(fact_src_df['Revenue'],fact_src_df['Units_Sold'],fact_src_df['RevenuePerUnit'],dim_branch_df['dim_branch_key'],dim_model_df['dim_model_key'],dim_dealer_df['dim_dealer_key'],dim_date_df['dim_date_key'])\n",
    "\n",
    "display(sales_fact_df)"
   ]
  },
  {
   "cell_type": "markdown",
   "metadata": {
    "application/vnd.databricks.v1+cell": {
     "cellMetadata": {
      "byteLimit": 2048000,
      "rowLimit": 10000
     },
     "inputWidgets": {},
     "nuid": "9b35a2d7-d3a9-4ac4-b780-39534a944823",
     "showTitle": false,
     "tableResultSettingsMap": {},
     "title": ""
    }
   },
   "source": [
    "**Writing into fact Table**"
   ]
  },
  {
   "cell_type": "code",
   "execution_count": 0,
   "metadata": {
    "application/vnd.databricks.v1+cell": {
     "cellMetadata": {
      "byteLimit": 2048000,
      "rowLimit": 10000
     },
     "inputWidgets": {},
     "nuid": "53da133f-5e50-456b-98c3-d1cc3a1bede6",
     "showTitle": false,
     "tableResultSettingsMap": {},
     "title": ""
    }
   },
   "outputs": [],
   "source": [
    "if spark.catalog.tableExists('sales.gold.sales_fact'):\n",
    "    deltaTable = DeltaTable.forPath(spark,'abfss://gold@dlsendtoendproject001.dfs.core.windows.net/sales_fact')\n",
    "    deltaTable.alias('tgt').merge(sales_fact_df.alias('src'),'tgt.dim_branch_key = src.dim_branch_key AND tgt.dim_model_key = src.dim_model_key AND tgt.dim_dealer_key = src.dim_dealer_key AND tgt.dim_date_key = src.dim_date_key')\\\n",
    "        .whenMatchedUpdateAll()\\\n",
    "            .whenNotMatchedInsertAll()\\\n",
    "                .execute()\n",
    "else:\n",
    "    sales_fact_df.write.format('delta')\\\n",
    "        .mode('overwrite')\\\n",
    "            .option('inferschema',True)\\\n",
    "                .option('path','abfss://gold@dlsendtoendproject001.dfs.core.windows.net/sales_fact')\\\n",
    "                    .saveAsTable('sales.gold.sales_fact')"
   ]
  }
 ],
 "metadata": {
  "application/vnd.databricks.v1+notebook": {
   "computePreferences": null,
   "dashboards": [],
   "environmentMetadata": {
    "base_environment": "",
    "environment_version": "2"
   },
   "inputWidgetPreferences": null,
   "language": "python",
   "notebookMetadata": {
    "pythonIndentUnit": 4
   },
   "notebookName": "silverToGold-FactsTransformations",
   "widgets": {}
  },
  "language_info": {
   "name": "python"
  }
 },
 "nbformat": 4,
 "nbformat_minor": 0
}
